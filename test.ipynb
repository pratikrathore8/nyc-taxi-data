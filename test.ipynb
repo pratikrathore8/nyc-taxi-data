{
 "cells": [
  {
   "cell_type": "markdown",
   "metadata": {},
   "source": [
    "### Based on https://github.com/FalkonML/falkon/blob/master/notebooks/NycTaxiDataset.ipynb"
   ]
  },
  {
   "cell_type": "code",
   "execution_count": 1,
   "metadata": {},
   "outputs": [],
   "source": [
    "import psycopg2\n",
    "import sys, os, time"
   ]
  },
  {
   "cell_type": "code",
   "execution_count": 2,
   "metadata": {},
   "outputs": [],
   "source": [
    "csv_size = 3_000_000\n",
    "folder = os.path.abspath(\"./taxi_data_preprocessed\")\n",
    "try:\n",
    "    os.makedirs(folder)\n",
    "except FileExistsError:\n",
    "    pass"
   ]
  },
  {
   "cell_type": "markdown",
   "metadata": {},
   "source": [
    "### Preprocess data into compressed CSVs using SQL"
   ]
  },
  {
   "cell_type": "code",
   "execution_count": 3,
   "metadata": {},
   "outputs": [],
   "source": [
    "def make_copy_sql(from_id, num_rows, out_file):\n",
    "    return \"\"\"\n",
    "    COPY (\n",
    "        SELECT\n",
    "            id,\n",
    "            EXTRACT(EPOCH FROM CAST(pickup_datetime AS time)) as time,\n",
    "            EXTRACT(ISODOW FROM pickup_datetime) as dow,\n",
    "            EXTRACT(DAY FROM pickup_datetime) as dom,\n",
    "            EXTRACT(MONTH FROM pickup_datetime) as month,\n",
    "            round(pickup_latitude, 6) as pickup_lat,\n",
    "            round(pickup_longitude, 6) as pickup_lon,\n",
    "            round(dropoff_latitude, 6) as dropoff_lat,\n",
    "            round(dropoff_longitude, 6) as dropoff_lon,\n",
    "            round(trip_distance, 3) as distance,\n",
    "            EXTRACT(EPOCH FROM dropoff_datetime - pickup_datetime) as duration\n",
    "        FROM trips WHERE \n",
    "            (pickup_nyct2010_gid IS NOT NULL) AND \n",
    "            (dropoff_nyct2010_gid IS NOT NULL) AND\n",
    "            (EXTRACT(EPOCH FROM dropoff_datetime - pickup_datetime) BETWEEN 0 AND 18000) AND\n",
    "            (id > %d)\n",
    "        ORDER BY id ASC\n",
    "        LIMIT %d\n",
    "    ) TO '%s'\n",
    "    WITH (FORMAT csv, HEADER true);\"\"\" % (from_id, num_rows, out_file)"
   ]
  },
  {
   "cell_type": "code",
   "execution_count": 4,
   "metadata": {},
   "outputs": [],
   "source": [
    "conn = psycopg2.connect(database=\"nyc-taxi-data\")"
   ]
  },
  {
   "cell_type": "code",
   "execution_count": 5,
   "metadata": {},
   "outputs": [
    {
     "name": "stdout",
     "output_type": "stream",
     "text": [
      "1 - 34.12s - Retrieved new start ID 3111558\n",
      "2 - 30.14s - Retrieved new start ID 6223504\n",
      "3 - 7.00s - Retrieved new start ID 9335587\n",
      "4 - 9.70s - Retrieved new start ID 12447424\n",
      "5 - 5.29s - Retrieved new start ID 14092112\n"
     ]
    },
    {
     "ename": "ValueError",
     "evalue": "invalid literal for int() with base 10: 'id'",
     "output_type": "error",
     "traceback": [
      "\u001b[0;31m---------------------------------------------------------------------------\u001b[0m",
      "\u001b[0;31mValueError\u001b[0m                                Traceback (most recent call last)",
      "Cell \u001b[0;32mIn[5], line 15\u001b[0m\n\u001b[1;32m     13\u001b[0m \u001b[38;5;28;01mif\u001b[39;00m last_line \u001b[38;5;241m==\u001b[39m \u001b[38;5;124m\"\u001b[39m\u001b[38;5;124m\"\u001b[39m:\n\u001b[1;32m     14\u001b[0m     \u001b[38;5;28;01mbreak\u001b[39;00m\n\u001b[0;32m---> 15\u001b[0m index \u001b[38;5;241m=\u001b[39m \u001b[38;5;28;43mint\u001b[39;49m\u001b[43m(\u001b[49m\u001b[43mlast_line\u001b[49m\u001b[38;5;241;43m.\u001b[39;49m\u001b[43msplit\u001b[49m\u001b[43m(\u001b[49m\u001b[38;5;124;43m\"\u001b[39;49m\u001b[38;5;124;43m,\u001b[39;49m\u001b[38;5;124;43m\"\u001b[39;49m\u001b[43m)\u001b[49m\u001b[43m[\u001b[49m\u001b[38;5;241;43m0\u001b[39;49m\u001b[43m]\u001b[49m\u001b[43m)\u001b[49m\n\u001b[1;32m     16\u001b[0m \u001b[38;5;66;03m# Compress the file\u001b[39;00m\n\u001b[1;32m     17\u001b[0m os\u001b[38;5;241m.\u001b[39mpopen(\u001b[38;5;124m'\u001b[39m\u001b[38;5;124mgzip -f \u001b[39m\u001b[38;5;132;01m%s\u001b[39;00m\u001b[38;5;124m'\u001b[39m \u001b[38;5;241m%\u001b[39m (fn))\n",
      "\u001b[0;31mValueError\u001b[0m: invalid literal for int() with base 10: 'id'"
     ]
    }
   ],
   "source": [
    "index = 0\n",
    "i = 0\n",
    "with conn.cursor() as cursor:\n",
    "    while True:\n",
    "        t_s = time.time()\n",
    "        fn = os.path.join(folder, \"%d.csv\" % (index))\n",
    "        # Postgres server needs to have permission to create the file\n",
    "        os.umask(0)\n",
    "        with open(os.open(fn, os.O_CREAT | os.O_WRONLY, 0o777), 'w') as fh:\n",
    "            cursor.copy_expert(make_copy_sql(index, csv_size, fn), fh)\n",
    "        # Read last line of written file to check the new index\n",
    "        last_line = os.popen('tail -n 1 %s' % (fn)).read()\n",
    "        if last_line == \"\":\n",
    "            break\n",
    "        index = int(last_line.split(\",\")[0])\n",
    "        # Compress the file\n",
    "        os.popen('gzip -f %s' % (fn))\n",
    "\n",
    "        i += 1\n",
    "        print(\"%d - %.2fs - Retrieved new start ID %d\" % (i, time.time() - t_s, index))"
   ]
  },
  {
   "cell_type": "markdown",
   "metadata": {},
   "source": [
    "### Turn zipped csv files into a compressed h5py dataset"
   ]
  },
  {
   "cell_type": "code",
   "execution_count": 12,
   "metadata": {},
   "outputs": [],
   "source": [
    "import pandas as pd\n",
    "import h5py\n",
    "import time\n",
    "import os\n",
    "import numpy as np"
   ]
  },
  {
   "cell_type": "code",
   "execution_count": 13,
   "metadata": {},
   "outputs": [],
   "source": [
    "data_folder = \"./taxi_data_preprocessed\"\n",
    "def list_files(folder):\n",
    "    for r, d, f in os.walk(folder):\n",
    "        for file in f:\n",
    "            if file.endswith('.csv.gz'):\n",
    "                yield os.path.join(r, file)"
   ]
  },
  {
   "cell_type": "code",
   "execution_count": 14,
   "metadata": {},
   "outputs": [
    {
     "name": "stdout",
     "output_type": "stream",
     "text": [
      "file ./taxi_data_preprocessed/9335587.csv.gz read in 4.97s\n",
      "file ./taxi_data_preprocessed/6223504.csv.gz read in 4.50s\n",
      "file ./taxi_data_preprocessed/3111558.csv.gz read in 4.70s\n",
      "file ./taxi_data_preprocessed/0.csv.gz read in 4.60s\n",
      "file ./taxi_data_preprocessed/12447424.csv.gz read in 2.36s\n"
     ]
    }
   ],
   "source": [
    "all_x = []\n",
    "all_y = []\n",
    "for f in list_files(data_folder):\n",
    "    t_s = time.time()\n",
    "    df = pd.read_csv(f, header=0, index_col=False)\n",
    "#     print(df.head())\n",
    "    Y = df['duration'].to_numpy(np.int32, copy=True)\n",
    "    X = df[['time', 'dow', 'dom', 'month', 'pickup_lat',\n",
    "            'pickup_lon', 'dropoff_lat', 'dropoff_lon',\n",
    "            'distance']].to_numpy(np.float64, copy=True)\n",
    "    all_x.append(X)\n",
    "    all_y.append(Y)\n",
    "    del df\n",
    "    print(\"file %s read in %.2fs\" % (f, time.time() - t_s))"
   ]
  },
  {
   "cell_type": "code",
   "execution_count": 15,
   "metadata": {},
   "outputs": [
    {
     "name": "stdout",
     "output_type": "stream",
     "text": [
      "13585727 , 9\n"
     ]
    }
   ],
   "source": [
    "num_samples = sum([arr.shape[0] for arr in all_x])\n",
    "dim = all_x[0].shape[1]\n",
    "print(num_samples, \",\", dim)"
   ]
  },
  {
   "cell_type": "code",
   "execution_count": 16,
   "metadata": {},
   "outputs": [
    {
     "name": "stdout",
     "output_type": "stream",
     "text": [
      "Chunk size: 29127\n"
     ]
    }
   ],
   "source": [
    "max_chunk_size = 2 * 2**20  # 2MB\n",
    "chunk_x = int(max_chunk_size / dim / 8)\n",
    "chunk_y = chunk_x\n",
    "print(\"Chunk size:\", chunk_x)"
   ]
  },
  {
   "cell_type": "code",
   "execution_count": 17,
   "metadata": {},
   "outputs": [
    {
     "name": "stdout",
     "output_type": "stream",
     "text": [
      "i: 3000000/13585727 in 12.53s\n",
      "i: 6000000/13585727 in 12.44s\n",
      "i: 9000000/13585727 in 12.13s\n",
      "i: 12000000/13585727 in 11.80s\n",
      "i: 13585727/13585727 in 6.25s\n"
     ]
    }
   ],
   "source": [
    "with h5py.File(os.path.join(data_folder, 'full.h5py'), 'w', libver='latest') as f:\n",
    "    Xdset = f.create_dataset(\"X\", (num_samples, dim), dtype='float64', \n",
    "                             compression=\"gzip\", chunks=(chunk_x, dim))\n",
    "    Ydset = f.create_dataset(\"Y\", (num_samples, 1), dtype='int32')\n",
    "    current_i = 0\n",
    "    for X, Y in zip(all_x, all_y):\n",
    "        t_s = time.time()\n",
    "        X = np.ascontiguousarray(X)\n",
    "        Y = Y.reshape((-1, 1))\n",
    "        Xdset.write_direct(X, dest_sel=np.s_[current_i:current_i+X.shape[0], :])\n",
    "        Ydset.write_direct(Y, dest_sel=np.s_[current_i:current_i+Y.shape[0], :])\n",
    "        current_i += X.shape[0]\n",
    "        print(\"i: %d/%d in %.2fs\" % (current_i, num_samples, time.time() - t_s))"
   ]
  }
 ],
 "metadata": {
  "kernelspec": {
   "display_name": "test_env",
   "language": "python",
   "name": "test_env"
  },
  "language_info": {
   "codemirror_mode": {
    "name": "ipython",
    "version": 3
   },
   "file_extension": ".py",
   "mimetype": "text/x-python",
   "name": "python",
   "nbconvert_exporter": "python",
   "pygments_lexer": "ipython3",
   "version": "3.10.10"
  }
 },
 "nbformat": 4,
 "nbformat_minor": 2
}
